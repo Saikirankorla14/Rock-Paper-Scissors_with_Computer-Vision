{
  "nbformat": 4,
  "nbformat_minor": 0,
  "metadata": {
    "colab": {
      "provenance": []
    },
    "kernelspec": {
      "name": "python3",
      "display_name": "Python 3"
    },
    "language_info": {
      "name": "python"
    }
  },
  "cells": [
    {
      "cell_type": "code",
      "execution_count": null,
      "metadata": {
        "id": "xqFZVbz7BLxm"
      },
      "outputs": [],
      "source": []
    },
    {
      "cell_type": "markdown",
      "metadata": {
        "id": "6eeaca14"
      },
      "source": [
        "# Task\n",
        "Create a Rock-Paper-Scissors game using computer vision. The game should use a webcam to capture the user's hand gestures (rock, paper, or scissors) and an AI model (TensorFlow CNN) to classify the gesture. The game should then compare the user's gesture with a random computer choice and determine the winner. The game should display the webcam feed, the predicted gesture, the computer's choice, and the score."
      ]
    },
    {
      "cell_type": "markdown",
      "metadata": {
        "id": "48bbafce"
      },
      "source": [
        "## Setup and imports\n",
        "\n",
        "### Subtask:\n",
        "Import necessary libraries (OpenCV, TensorFlow, etc.).\n"
      ]
    },
    {
      "cell_type": "markdown",
      "metadata": {
        "id": "5db63f6f"
      },
      "source": [
        "**Reasoning**:\n",
        "Import the necessary libraries for building the Rock-Paper-Scissors game, including OpenCV for webcam access, TensorFlow for the CNN model, NumPy for numerical operations, random for the computer's choice, and specific modules from TensorFlow Keras for model building.\n",
        "\n"
      ]
    },
    {
      "cell_type": "code",
      "metadata": {
        "id": "b18f009f"
      },
      "source": [
        "import cv2\n",
        "import tensorflow as tf\n",
        "import numpy as np\n",
        "import random\n",
        "from tensorflow.keras.models import Sequential\n",
        "from tensorflow.keras.layers import Conv2D, MaxPooling2D, Flatten, Dense"
      ],
      "execution_count": 1,
      "outputs": []
    },
    {
      "cell_type": "markdown",
      "metadata": {
        "id": "78dcc788"
      },
      "source": [
        "## Data collection\n",
        "\n",
        "### Subtask:\n",
        "Collect images of rock, paper, and scissors gestures using the webcam. This could involve capturing images for each gesture from different angles and lighting conditions.\n"
      ]
    },
    {
      "cell_type": "markdown",
      "metadata": {
        "id": "ebe82899"
      },
      "source": [
        "**Reasoning**:\n",
        "Initialize video capture, create directories, and set up the loop to capture images for each gesture based on key presses, saving them to their respective directories with unique filenames. This addresses steps 1 through 8 of the instructions.\n",
        "\n"
      ]
    },
    {
      "cell_type": "code",
      "metadata": {
        "colab": {
          "base_uri": "https://localhost:8080/",
          "height": 245
        },
        "id": "efebfed6",
        "outputId": "827437b5-d754-4bec-9c38-2b32fde1c12b"
      },
      "source": [
        "import os\n",
        "import time\n",
        "\n",
        "# Initialize video capture\n",
        "cap = cv2.VideoCapture(0)\n",
        "\n",
        "# Create directories\n",
        "gestures = ['rock', 'paper', 'scissors']\n",
        "for gesture in gestures:\n",
        "    if not os.path.exists(gesture):\n",
        "        os.makedirs(gesture)\n",
        "\n",
        "# Counters for each gesture\n",
        "counters = {gesture: 0 for gesture in gestures}\n",
        "\n",
        "print(\"Press 'r' for rock, 'p' for paper, 's' for scissors, and 'q' to quit.\")\n",
        "\n",
        "while True:\n",
        "    ret, frame = cap.read()\n",
        "    if not ret:\n",
        "        break\n",
        "\n",
        "    # Display the frame\n",
        "    cv2.imshow('Capture Gestures', frame)\n",
        "\n",
        "    # Check for key presses\n",
        "    key = cv2.waitKey(1) & 0xFF\n",
        "\n",
        "    if key == ord('r'):\n",
        "        filename = os.path.join('rock', f'rock_{int(time.time())}_{counters[\"rock\"]}.png')\n",
        "        cv2.imwrite(filename, frame)\n",
        "        counters['rock'] += 1\n",
        "        print(f'Saved rock image: {filename}')\n",
        "    elif key == ord('p'):\n",
        "        filename = os.path.join('paper', f'paper_{int(time.time())}_{counters[\"paper\"]}.png')\n",
        "        cv2.imwrite(filename, frame)\n",
        "        counters['paper'] += 1\n",
        "        print(f'Saved paper image: {filename}')\n",
        "    elif key == ord('s'):\n",
        "        filename = os.path.join('scissors', f'scissors_{int(time.time())}_{counters[\"scissors\"]}.png')\n",
        "        cv2.imwrite(filename, frame)\n",
        "        counters['scissors'] += 1\n",
        "        print(f'Saved scissors image: {filename}')\n",
        "    elif key == ord('q'):\n",
        "        break\n",
        "\n",
        "# Release the video capture object and close all windows (Step 9)\n",
        "cap.release()\n",
        "cv2.destroyAllWindows()\n",
        "\n",
        "print(\"Data collection finished.\")"
      ],
      "execution_count": 2,
      "outputs": [
        {
          "output_type": "stream",
          "name": "stdout",
          "text": [
            "Press 'r' for rock, 'p' for paper, 's' for scissors, and 'q' to quit.\n"
          ]
        },
        {
          "output_type": "error",
          "ename": "error",
          "evalue": "OpenCV(4.12.0) /io/opencv/modules/highgui/src/window.cpp:1295: error: (-2:Unspecified error) The function is not implemented. Rebuild the library with Windows, GTK+ 2.x or Cocoa support. If you are on Ubuntu or Debian, install libgtk2.0-dev and pkg-config, then re-run cmake or configure script in function 'cvDestroyAllWindows'\n",
          "traceback": [
            "\u001b[0;31m---------------------------------------------------------------------------\u001b[0m",
            "\u001b[0;31merror\u001b[0m                                     Traceback (most recent call last)",
            "\u001b[0;32m/tmp/ipython-input-2-3745172191.py\u001b[0m in \u001b[0;36m<cell line: 0>\u001b[0;34m()\u001b[0m\n\u001b[1;32m     47\u001b[0m \u001b[0;31m# Release the video capture object and close all windows (Step 9)\u001b[0m\u001b[0;34m\u001b[0m\u001b[0;34m\u001b[0m\u001b[0m\n\u001b[1;32m     48\u001b[0m \u001b[0mcap\u001b[0m\u001b[0;34m.\u001b[0m\u001b[0mrelease\u001b[0m\u001b[0;34m(\u001b[0m\u001b[0;34m)\u001b[0m\u001b[0;34m\u001b[0m\u001b[0;34m\u001b[0m\u001b[0m\n\u001b[0;32m---> 49\u001b[0;31m \u001b[0mcv2\u001b[0m\u001b[0;34m.\u001b[0m\u001b[0mdestroyAllWindows\u001b[0m\u001b[0;34m(\u001b[0m\u001b[0;34m)\u001b[0m\u001b[0;34m\u001b[0m\u001b[0;34m\u001b[0m\u001b[0m\n\u001b[0m\u001b[1;32m     50\u001b[0m \u001b[0;34m\u001b[0m\u001b[0m\n\u001b[1;32m     51\u001b[0m \u001b[0mprint\u001b[0m\u001b[0;34m(\u001b[0m\u001b[0;34m\"Data collection finished.\"\u001b[0m\u001b[0;34m)\u001b[0m\u001b[0;34m\u001b[0m\u001b[0;34m\u001b[0m\u001b[0m\n",
            "\u001b[0;31merror\u001b[0m: OpenCV(4.12.0) /io/opencv/modules/highgui/src/window.cpp:1295: error: (-2:Unspecified error) The function is not implemented. Rebuild the library with Windows, GTK+ 2.x or Cocoa support. If you are on Ubuntu or Debian, install libgtk2.0-dev and pkg-config, then re-run cmake or configure script in function 'cvDestroyAllWindows'\n"
          ]
        }
      ]
    },
    {
      "cell_type": "markdown",
      "metadata": {
        "id": "91367805"
      },
      "source": [
        "## Data collection\n",
        "\n",
        "### Subtask:\n",
        "Collect images of rock, paper, and scissors gestures using the webcam. This could involve capturing images for each gesture from different angles and lighting conditions.\n"
      ]
    },
    {
      "cell_type": "markdown",
      "metadata": {
        "id": "7d6e4aab"
      },
      "source": [
        "**Reasoning**:\n",
        "Modify the data collection code to remove window display and use a non-interactive approach for capturing images for each gesture, then save the images and release the capture object.\n",
        "\n"
      ]
    },
    {
      "cell_type": "code",
      "metadata": {
        "colab": {
          "base_uri": "https://localhost:8080/"
        },
        "id": "c00524e5",
        "outputId": "791dec3c-14d3-4a05-d939-86122884e908"
      },
      "source": [
        "import os\n",
        "import time\n",
        "\n",
        "# Initialize video capture\n",
        "cap = cv2.VideoCapture(0)\n",
        "\n",
        "# Create directories\n",
        "gestures = ['rock', 'paper', 'scissors']\n",
        "for gesture in gestures:\n",
        "    if not os.path.exists(gesture):\n",
        "        os.makedirs(gesture)\n",
        "\n",
        "# Counters for each gesture\n",
        "counters = {gesture: 0 for gesture in gestures}\n",
        "num_images_per_gesture = 50 # Define the number of images to collect for each gesture\n",
        "\n",
        "print(f\"Starting image collection. Will collect {num_images_per_gesture} images for each gesture.\")\n",
        "\n",
        "# Collect images for each gesture\n",
        "for gesture in gestures:\n",
        "    print(f\"Collecting images for '{gesture}'...\")\n",
        "    # Give a short delay before starting collection for each gesture\n",
        "    time.sleep(2)\n",
        "    while counters[gesture] < num_images_per_gesture:\n",
        "        ret, frame = cap.read()\n",
        "        if not ret:\n",
        "            print(\"Error: Could not read frame from webcam.\")\n",
        "            break\n",
        "\n",
        "        filename = os.path.join(gesture, f'{gesture}_{int(time.time())}_{counters[gesture]}.png')\n",
        "        cv2.imwrite(filename, frame)\n",
        "        counters[gesture] += 1\n",
        "        # Add a small delay between captures to avoid capturing too quickly\n",
        "        time.sleep(0.1)\n",
        "        print(f'Saved {gesture} image: {filename}')\n",
        "\n",
        "    print(f\"Finished collecting {counters[gesture]} images for '{gesture}'.\")\n",
        "\n",
        "\n",
        "# Release the video capture object\n",
        "cap.release()\n",
        "\n",
        "print(\"Data collection finished.\")"
      ],
      "execution_count": 3,
      "outputs": [
        {
          "output_type": "stream",
          "name": "stdout",
          "text": [
            "Starting image collection. Will collect 50 images for each gesture.\n",
            "Collecting images for 'rock'...\n",
            "Error: Could not read frame from webcam.\n",
            "Finished collecting 0 images for 'rock'.\n",
            "Collecting images for 'paper'...\n",
            "Error: Could not read frame from webcam.\n",
            "Finished collecting 0 images for 'paper'.\n",
            "Collecting images for 'scissors'...\n",
            "Error: Could not read frame from webcam.\n",
            "Finished collecting 0 images for 'scissors'.\n",
            "Data collection finished.\n"
          ]
        }
      ]
    },
    {
      "cell_type": "markdown",
      "metadata": {
        "id": "e1177f75"
      },
      "source": [
        "**Reasoning**:\n",
        "The previous attempt to capture images failed because the webcam could not be accessed. This might be due to the camera index (0) being incorrect or the camera not being available. I will try a different camera index to see if that resolves the issue.\n",
        "\n"
      ]
    },
    {
      "cell_type": "code",
      "metadata": {
        "colab": {
          "base_uri": "https://localhost:8080/"
        },
        "id": "1bbdec2c",
        "outputId": "adfe18ff-0086-4cf3-d3ae-480571f89905"
      },
      "source": [
        "import os\n",
        "import time\n",
        "\n",
        "# Initialize video capture with a different index (e.g., 1)\n",
        "cap = cv2.VideoCapture(1)\n",
        "\n",
        "# Create directories\n",
        "gestures = ['rock', 'paper', 'scissors']\n",
        "for gesture in gestures:\n",
        "    if not os.path.exists(gesture):\n",
        "        os.makedirs(gesture)\n",
        "\n",
        "# Counters for each gesture\n",
        "counters = {gesture: 0 for gesture in gestures}\n",
        "num_images_per_gesture = 50 # Define the number of images to collect for each gesture\n",
        "\n",
        "print(f\"Starting image collection. Will collect {num_images_per_gesture} images for each gesture.\")\n",
        "\n",
        "# Collect images for each gesture\n",
        "for gesture in gestures:\n",
        "    print(f\"Collecting images for '{gesture}'...\")\n",
        "    # Give a short delay before starting collection for each gesture\n",
        "    time.sleep(2)\n",
        "    while counters[gesture] < num_images_per_gesture:\n",
        "        ret, frame = cap.read()\n",
        "        if not ret:\n",
        "            print(\"Error: Could not read frame from webcam.\")\n",
        "            break\n",
        "\n",
        "        filename = os.path.join(gesture, f'{gesture}_{int(time.time())}_{counters[gesture]}.png')\n",
        "        cv2.imwrite(filename, frame)\n",
        "        counters[gesture] += 1\n",
        "        # Add a small delay between captures to avoid capturing too quickly\n",
        "        time.sleep(0.1)\n",
        "        print(f'Saved {gesture} image: {filename}')\n",
        "\n",
        "    print(f\"Finished collecting {counters[gesture]} images for '{gesture}'.\")\n",
        "\n",
        "\n",
        "# Release the video capture object\n",
        "cap.release()\n",
        "\n",
        "print(\"Data collection finished.\")"
      ],
      "execution_count": 4,
      "outputs": [
        {
          "output_type": "stream",
          "name": "stdout",
          "text": [
            "Starting image collection. Will collect 50 images for each gesture.\n",
            "Collecting images for 'rock'...\n",
            "Error: Could not read frame from webcam.\n",
            "Finished collecting 0 images for 'rock'.\n",
            "Collecting images for 'paper'...\n",
            "Error: Could not read frame from webcam.\n",
            "Finished collecting 0 images for 'paper'.\n",
            "Collecting images for 'scissors'...\n",
            "Error: Could not read frame from webcam.\n",
            "Finished collecting 0 images for 'scissors'.\n",
            "Data collection finished.\n"
          ]
        }
      ]
    },
    {
      "cell_type": "markdown",
      "metadata": {
        "id": "8e4a78b5"
      },
      "source": [
        "## Data preprocessing\n",
        "\n",
        "### Subtask:\n",
        "Preprocess the collected images (e.g., resizing, normalization, data augmentation) to prepare them for training the CNN model.\n"
      ]
    },
    {
      "cell_type": "markdown",
      "metadata": {
        "id": "c16de745"
      },
      "source": [
        "**Reasoning**:\n",
        "Define image dimensions, gestures, and initialize empty lists for image data and labels.\n",
        "\n"
      ]
    },
    {
      "cell_type": "code",
      "metadata": {
        "colab": {
          "base_uri": "https://localhost:8080/"
        },
        "id": "1c1b6d91",
        "outputId": "cc817ad8-4e15-4dce-b70a-4a6ee62373b6"
      },
      "source": [
        "# Define image dimensions and gestures\n",
        "img_width, img_height = 128, 128\n",
        "gestures = ['rock', 'paper', 'scissors']\n",
        "num_classes = len(gestures)\n",
        "\n",
        "# Create empty lists to store image data and labels\n",
        "image_data = []\n",
        "labels = []\n",
        "\n",
        "print(f\"Image dimensions set to: {img_width}x{img_height}\")\n",
        "print(f\"Gestures: {gestures}\")"
      ],
      "execution_count": 5,
      "outputs": [
        {
          "output_type": "stream",
          "name": "stdout",
          "text": [
            "Image dimensions set to: 128x128\n",
            "Gestures: ['rock', 'paper', 'scissors']\n"
          ]
        }
      ]
    },
    {
      "cell_type": "markdown",
      "metadata": {
        "id": "7d41d3e9"
      },
      "source": [
        "**Reasoning**:\n",
        "Iterate through gesture directories, read and resize images, and append data and labels to lists.\n",
        "\n"
      ]
    },
    {
      "cell_type": "code",
      "metadata": {
        "colab": {
          "base_uri": "https://localhost:8080/"
        },
        "id": "4db0677d",
        "outputId": "682a4490-a71e-4783-8303-77aea279e2c7"
      },
      "source": [
        "import os\n",
        "\n",
        "# Iterate through each gesture directory\n",
        "for i, gesture in enumerate(gestures):\n",
        "    gesture_dir = os.path.join(os.getcwd(), gesture)\n",
        "    print(f\"Processing images in directory: {gesture_dir}\")\n",
        "\n",
        "    # Check if the directory exists\n",
        "    if not os.path.exists(gesture_dir):\n",
        "        print(f\"Directory not found: {gesture_dir}. Skipping.\")\n",
        "        continue\n",
        "\n",
        "    # Iterate through all the image files in the directory\n",
        "    for filename in os.listdir(gesture_dir):\n",
        "        if filename.endswith(\".png\"): # Assuming images are in PNG format\n",
        "            img_path = os.path.join(gesture_dir, filename)\n",
        "\n",
        "            # Read the image\n",
        "            img = cv2.imread(img_path)\n",
        "\n",
        "            if img is None:\n",
        "                print(f\"Warning: Could not read image: {img_path}. Skipping.\")\n",
        "                continue\n",
        "\n",
        "            # Resize the image\n",
        "            resized_img = cv2.resize(img, (img_width, img_height))\n",
        "\n",
        "            # Append the resized image (as a NumPy array) to the image data list\n",
        "            image_data.append(resized_img)\n",
        "\n",
        "            # Append the corresponding gesture label (as an integer) to the labels list\n",
        "            labels.append(i) # Use the index as the integer label\n",
        "\n",
        "print(\"Finished processing images.\")"
      ],
      "execution_count": 6,
      "outputs": [
        {
          "output_type": "stream",
          "name": "stdout",
          "text": [
            "Processing images in directory: /content/rock\n",
            "Processing images in directory: /content/paper\n",
            "Processing images in directory: /content/scissors\n",
            "Finished processing images.\n"
          ]
        }
      ]
    },
    {
      "cell_type": "markdown",
      "metadata": {
        "id": "9a250f28"
      },
      "source": [
        "**Reasoning**:\n",
        "Convert the lists to NumPy arrays, normalize the image data, and convert labels to categorical format.\n",
        "\n"
      ]
    },
    {
      "cell_type": "code",
      "metadata": {
        "colab": {
          "base_uri": "https://localhost:8080/"
        },
        "id": "efd76a35",
        "outputId": "3917271d-979d-4e17-ee0b-a24b96918e5c"
      },
      "source": [
        "# Convert the image data and labels lists into NumPy arrays\n",
        "image_data = np.array(image_data)\n",
        "labels = np.array(labels)\n",
        "\n",
        "# Normalize the image data by dividing by 255.0\n",
        "image_data = image_data / 255.0\n",
        "\n",
        "# Convert the labels to a categorical format\n",
        "labels = tf.keras.utils.to_categorical(labels, num_classes=num_classes)\n",
        "\n",
        "print(\"Image data shape:\", image_data.shape)\n",
        "print(\"Labels shape:\", labels.shape)"
      ],
      "execution_count": 7,
      "outputs": [
        {
          "output_type": "stream",
          "name": "stdout",
          "text": [
            "Image data shape: (0,)\n",
            "Labels shape: (0, 3)\n"
          ]
        }
      ]
    },
    {
      "cell_type": "markdown",
      "metadata": {
        "id": "6a6d609c"
      },
      "source": [
        "## Model building\n",
        "\n",
        "### Subtask:\n",
        "Design and build a Convolutional Neural Network (CNN) model using TensorFlow for image classification.\n"
      ]
    },
    {
      "cell_type": "markdown",
      "metadata": {
        "id": "10124253"
      },
      "source": [
        "**Reasoning**:\n",
        "Design and build the CNN model architecture using the Sequential API, adding convolutional, pooling, flatten, and dense layers as specified in the instructions. Compile the model and print its summary.\n",
        "\n"
      ]
    },
    {
      "cell_type": "code",
      "metadata": {
        "colab": {
          "base_uri": "https://localhost:8080/",
          "height": 408
        },
        "id": "09ab660b",
        "outputId": "44a45617-2045-4c01-cdf7-272beb8efe8d"
      },
      "source": [
        "model = Sequential([\n",
        "    Conv2D(32, (3, 3), activation='relu', input_shape=(img_height, img_width, 3)),\n",
        "    MaxPooling2D((2, 2)),\n",
        "    Conv2D(64, (3, 3), activation='relu'),\n",
        "    MaxPooling2D((2, 2)),\n",
        "    Flatten(),\n",
        "    Dense(128, activation='relu'),\n",
        "    Dense(num_classes, activation='softmax')\n",
        "])\n",
        "\n",
        "model.compile(optimizer='adam',\n",
        "              loss='categorical_crossentropy',\n",
        "              metrics=['accuracy'])\n",
        "\n",
        "model.summary()"
      ],
      "execution_count": 8,
      "outputs": [
        {
          "output_type": "stream",
          "name": "stderr",
          "text": [
            "/usr/local/lib/python3.11/dist-packages/keras/src/layers/convolutional/base_conv.py:107: UserWarning: Do not pass an `input_shape`/`input_dim` argument to a layer. When using Sequential models, prefer using an `Input(shape)` object as the first layer in the model instead.\n",
            "  super().__init__(activity_regularizer=activity_regularizer, **kwargs)\n"
          ]
        },
        {
          "output_type": "display_data",
          "data": {
            "text/plain": [
              "\u001b[1mModel: \"sequential\"\u001b[0m\n"
            ],
            "text/html": [
              "<pre style=\"white-space:pre;overflow-x:auto;line-height:normal;font-family:Menlo,'DejaVu Sans Mono',consolas,'Courier New',monospace\"><span style=\"font-weight: bold\">Model: \"sequential\"</span>\n",
              "</pre>\n"
            ]
          },
          "metadata": {}
        },
        {
          "output_type": "display_data",
          "data": {
            "text/plain": [
              "┏━━━━━━━━━━━━━━━━━━━━━━━━━━━━━━━━━┳━━━━━━━━━━━━━━━━━━━━━━━━┳━━━━━━━━━━━━━━━┓\n",
              "┃\u001b[1m \u001b[0m\u001b[1mLayer (type)                   \u001b[0m\u001b[1m \u001b[0m┃\u001b[1m \u001b[0m\u001b[1mOutput Shape          \u001b[0m\u001b[1m \u001b[0m┃\u001b[1m \u001b[0m\u001b[1m      Param #\u001b[0m\u001b[1m \u001b[0m┃\n",
              "┡━━━━━━━━━━━━━━━━━━━━━━━━━━━━━━━━━╇━━━━━━━━━━━━━━━━━━━━━━━━╇━━━━━━━━━━━━━━━┩\n",
              "│ conv2d (\u001b[38;5;33mConv2D\u001b[0m)                 │ (\u001b[38;5;45mNone\u001b[0m, \u001b[38;5;34m126\u001b[0m, \u001b[38;5;34m126\u001b[0m, \u001b[38;5;34m32\u001b[0m)   │           \u001b[38;5;34m896\u001b[0m │\n",
              "├─────────────────────────────────┼────────────────────────┼───────────────┤\n",
              "│ max_pooling2d (\u001b[38;5;33mMaxPooling2D\u001b[0m)    │ (\u001b[38;5;45mNone\u001b[0m, \u001b[38;5;34m63\u001b[0m, \u001b[38;5;34m63\u001b[0m, \u001b[38;5;34m32\u001b[0m)     │             \u001b[38;5;34m0\u001b[0m │\n",
              "├─────────────────────────────────┼────────────────────────┼───────────────┤\n",
              "│ conv2d_1 (\u001b[38;5;33mConv2D\u001b[0m)               │ (\u001b[38;5;45mNone\u001b[0m, \u001b[38;5;34m61\u001b[0m, \u001b[38;5;34m61\u001b[0m, \u001b[38;5;34m64\u001b[0m)     │        \u001b[38;5;34m18,496\u001b[0m │\n",
              "├─────────────────────────────────┼────────────────────────┼───────────────┤\n",
              "│ max_pooling2d_1 (\u001b[38;5;33mMaxPooling2D\u001b[0m)  │ (\u001b[38;5;45mNone\u001b[0m, \u001b[38;5;34m30\u001b[0m, \u001b[38;5;34m30\u001b[0m, \u001b[38;5;34m64\u001b[0m)     │             \u001b[38;5;34m0\u001b[0m │\n",
              "├─────────────────────────────────┼────────────────────────┼───────────────┤\n",
              "│ flatten (\u001b[38;5;33mFlatten\u001b[0m)               │ (\u001b[38;5;45mNone\u001b[0m, \u001b[38;5;34m57600\u001b[0m)          │             \u001b[38;5;34m0\u001b[0m │\n",
              "├─────────────────────────────────┼────────────────────────┼───────────────┤\n",
              "│ dense (\u001b[38;5;33mDense\u001b[0m)                   │ (\u001b[38;5;45mNone\u001b[0m, \u001b[38;5;34m128\u001b[0m)            │     \u001b[38;5;34m7,372,928\u001b[0m │\n",
              "├─────────────────────────────────┼────────────────────────┼───────────────┤\n",
              "│ dense_1 (\u001b[38;5;33mDense\u001b[0m)                 │ (\u001b[38;5;45mNone\u001b[0m, \u001b[38;5;34m3\u001b[0m)              │           \u001b[38;5;34m387\u001b[0m │\n",
              "└─────────────────────────────────┴────────────────────────┴───────────────┘\n"
            ],
            "text/html": [
              "<pre style=\"white-space:pre;overflow-x:auto;line-height:normal;font-family:Menlo,'DejaVu Sans Mono',consolas,'Courier New',monospace\">┏━━━━━━━━━━━━━━━━━━━━━━━━━━━━━━━━━┳━━━━━━━━━━━━━━━━━━━━━━━━┳━━━━━━━━━━━━━━━┓\n",
              "┃<span style=\"font-weight: bold\"> Layer (type)                    </span>┃<span style=\"font-weight: bold\"> Output Shape           </span>┃<span style=\"font-weight: bold\">       Param # </span>┃\n",
              "┡━━━━━━━━━━━━━━━━━━━━━━━━━━━━━━━━━╇━━━━━━━━━━━━━━━━━━━━━━━━╇━━━━━━━━━━━━━━━┩\n",
              "│ conv2d (<span style=\"color: #0087ff; text-decoration-color: #0087ff\">Conv2D</span>)                 │ (<span style=\"color: #00d7ff; text-decoration-color: #00d7ff\">None</span>, <span style=\"color: #00af00; text-decoration-color: #00af00\">126</span>, <span style=\"color: #00af00; text-decoration-color: #00af00\">126</span>, <span style=\"color: #00af00; text-decoration-color: #00af00\">32</span>)   │           <span style=\"color: #00af00; text-decoration-color: #00af00\">896</span> │\n",
              "├─────────────────────────────────┼────────────────────────┼───────────────┤\n",
              "│ max_pooling2d (<span style=\"color: #0087ff; text-decoration-color: #0087ff\">MaxPooling2D</span>)    │ (<span style=\"color: #00d7ff; text-decoration-color: #00d7ff\">None</span>, <span style=\"color: #00af00; text-decoration-color: #00af00\">63</span>, <span style=\"color: #00af00; text-decoration-color: #00af00\">63</span>, <span style=\"color: #00af00; text-decoration-color: #00af00\">32</span>)     │             <span style=\"color: #00af00; text-decoration-color: #00af00\">0</span> │\n",
              "├─────────────────────────────────┼────────────────────────┼───────────────┤\n",
              "│ conv2d_1 (<span style=\"color: #0087ff; text-decoration-color: #0087ff\">Conv2D</span>)               │ (<span style=\"color: #00d7ff; text-decoration-color: #00d7ff\">None</span>, <span style=\"color: #00af00; text-decoration-color: #00af00\">61</span>, <span style=\"color: #00af00; text-decoration-color: #00af00\">61</span>, <span style=\"color: #00af00; text-decoration-color: #00af00\">64</span>)     │        <span style=\"color: #00af00; text-decoration-color: #00af00\">18,496</span> │\n",
              "├─────────────────────────────────┼────────────────────────┼───────────────┤\n",
              "│ max_pooling2d_1 (<span style=\"color: #0087ff; text-decoration-color: #0087ff\">MaxPooling2D</span>)  │ (<span style=\"color: #00d7ff; text-decoration-color: #00d7ff\">None</span>, <span style=\"color: #00af00; text-decoration-color: #00af00\">30</span>, <span style=\"color: #00af00; text-decoration-color: #00af00\">30</span>, <span style=\"color: #00af00; text-decoration-color: #00af00\">64</span>)     │             <span style=\"color: #00af00; text-decoration-color: #00af00\">0</span> │\n",
              "├─────────────────────────────────┼────────────────────────┼───────────────┤\n",
              "│ flatten (<span style=\"color: #0087ff; text-decoration-color: #0087ff\">Flatten</span>)               │ (<span style=\"color: #00d7ff; text-decoration-color: #00d7ff\">None</span>, <span style=\"color: #00af00; text-decoration-color: #00af00\">57600</span>)          │             <span style=\"color: #00af00; text-decoration-color: #00af00\">0</span> │\n",
              "├─────────────────────────────────┼────────────────────────┼───────────────┤\n",
              "│ dense (<span style=\"color: #0087ff; text-decoration-color: #0087ff\">Dense</span>)                   │ (<span style=\"color: #00d7ff; text-decoration-color: #00d7ff\">None</span>, <span style=\"color: #00af00; text-decoration-color: #00af00\">128</span>)            │     <span style=\"color: #00af00; text-decoration-color: #00af00\">7,372,928</span> │\n",
              "├─────────────────────────────────┼────────────────────────┼───────────────┤\n",
              "│ dense_1 (<span style=\"color: #0087ff; text-decoration-color: #0087ff\">Dense</span>)                 │ (<span style=\"color: #00d7ff; text-decoration-color: #00d7ff\">None</span>, <span style=\"color: #00af00; text-decoration-color: #00af00\">3</span>)              │           <span style=\"color: #00af00; text-decoration-color: #00af00\">387</span> │\n",
              "└─────────────────────────────────┴────────────────────────┴───────────────┘\n",
              "</pre>\n"
            ]
          },
          "metadata": {}
        },
        {
          "output_type": "display_data",
          "data": {
            "text/plain": [
              "\u001b[1m Total params: \u001b[0m\u001b[38;5;34m7,392,707\u001b[0m (28.20 MB)\n"
            ],
            "text/html": [
              "<pre style=\"white-space:pre;overflow-x:auto;line-height:normal;font-family:Menlo,'DejaVu Sans Mono',consolas,'Courier New',monospace\"><span style=\"font-weight: bold\"> Total params: </span><span style=\"color: #00af00; text-decoration-color: #00af00\">7,392,707</span> (28.20 MB)\n",
              "</pre>\n"
            ]
          },
          "metadata": {}
        },
        {
          "output_type": "display_data",
          "data": {
            "text/plain": [
              "\u001b[1m Trainable params: \u001b[0m\u001b[38;5;34m7,392,707\u001b[0m (28.20 MB)\n"
            ],
            "text/html": [
              "<pre style=\"white-space:pre;overflow-x:auto;line-height:normal;font-family:Menlo,'DejaVu Sans Mono',consolas,'Courier New',monospace\"><span style=\"font-weight: bold\"> Trainable params: </span><span style=\"color: #00af00; text-decoration-color: #00af00\">7,392,707</span> (28.20 MB)\n",
              "</pre>\n"
            ]
          },
          "metadata": {}
        },
        {
          "output_type": "display_data",
          "data": {
            "text/plain": [
              "\u001b[1m Non-trainable params: \u001b[0m\u001b[38;5;34m0\u001b[0m (0.00 B)\n"
            ],
            "text/html": [
              "<pre style=\"white-space:pre;overflow-x:auto;line-height:normal;font-family:Menlo,'DejaVu Sans Mono',consolas,'Courier New',monospace\"><span style=\"font-weight: bold\"> Non-trainable params: </span><span style=\"color: #00af00; text-decoration-color: #00af00\">0</span> (0.00 B)\n",
              "</pre>\n"
            ]
          },
          "metadata": {}
        }
      ]
    },
    {
      "cell_type": "markdown",
      "metadata": {
        "id": "5d8a67a3"
      },
      "source": [
        "## Model training\n",
        "\n",
        "### Subtask:\n",
        "Train the CNN model on the preprocessed image data.\n"
      ]
    },
    {
      "cell_type": "markdown",
      "metadata": {
        "id": "4ba332f4"
      },
      "source": [
        "**Reasoning**:\n",
        "Train the compiled CNN model using the preprocessed image data and labels.\n",
        "\n"
      ]
    },
    {
      "cell_type": "code",
      "metadata": {
        "colab": {
          "base_uri": "https://localhost:8080/",
          "height": 425
        },
        "id": "7ef76996",
        "outputId": "77fc5532-6790-4947-f0f6-afda5ef7f87b"
      },
      "source": [
        "history = model.fit(image_data, labels, epochs=10, batch_size=32)"
      ],
      "execution_count": 9,
      "outputs": [
        {
          "output_type": "stream",
          "name": "stdout",
          "text": [
            "Epoch 1/10\n"
          ]
        },
        {
          "output_type": "error",
          "ename": "ValueError",
          "evalue": "Exception encountered when calling Sequential.call().\n\n\u001b[1mInvalid input shape for input Tensor(\"data:0\", shape=(32,), dtype=float32). Expected shape (None, 128, 128, 3), but input has incompatible shape (32,)\u001b[0m\n\nArguments received by Sequential.call():\n  • inputs=tf.Tensor(shape=(32,), dtype=float32)\n  • training=True\n  • mask=None",
          "traceback": [
            "\u001b[0;31m---------------------------------------------------------------------------\u001b[0m",
            "\u001b[0;31mValueError\u001b[0m                                Traceback (most recent call last)",
            "\u001b[0;32m/tmp/ipython-input-9-4163426772.py\u001b[0m in \u001b[0;36m<cell line: 0>\u001b[0;34m()\u001b[0m\n\u001b[0;32m----> 1\u001b[0;31m \u001b[0mhistory\u001b[0m \u001b[0;34m=\u001b[0m \u001b[0mmodel\u001b[0m\u001b[0;34m.\u001b[0m\u001b[0mfit\u001b[0m\u001b[0;34m(\u001b[0m\u001b[0mimage_data\u001b[0m\u001b[0;34m,\u001b[0m \u001b[0mlabels\u001b[0m\u001b[0;34m,\u001b[0m \u001b[0mepochs\u001b[0m\u001b[0;34m=\u001b[0m\u001b[0;36m10\u001b[0m\u001b[0;34m,\u001b[0m \u001b[0mbatch_size\u001b[0m\u001b[0;34m=\u001b[0m\u001b[0;36m32\u001b[0m\u001b[0;34m)\u001b[0m\u001b[0;34m\u001b[0m\u001b[0;34m\u001b[0m\u001b[0m\n\u001b[0m",
            "\u001b[0;32m/usr/local/lib/python3.11/dist-packages/keras/src/utils/traceback_utils.py\u001b[0m in \u001b[0;36merror_handler\u001b[0;34m(*args, **kwargs)\u001b[0m\n\u001b[1;32m    120\u001b[0m             \u001b[0;31m# To get the full stack trace, call:\u001b[0m\u001b[0;34m\u001b[0m\u001b[0;34m\u001b[0m\u001b[0m\n\u001b[1;32m    121\u001b[0m             \u001b[0;31m# `keras.config.disable_traceback_filtering()`\u001b[0m\u001b[0;34m\u001b[0m\u001b[0;34m\u001b[0m\u001b[0m\n\u001b[0;32m--> 122\u001b[0;31m             \u001b[0;32mraise\u001b[0m \u001b[0me\u001b[0m\u001b[0;34m.\u001b[0m\u001b[0mwith_traceback\u001b[0m\u001b[0;34m(\u001b[0m\u001b[0mfiltered_tb\u001b[0m\u001b[0;34m)\u001b[0m \u001b[0;32mfrom\u001b[0m \u001b[0;32mNone\u001b[0m\u001b[0;34m\u001b[0m\u001b[0;34m\u001b[0m\u001b[0m\n\u001b[0m\u001b[1;32m    123\u001b[0m         \u001b[0;32mfinally\u001b[0m\u001b[0;34m:\u001b[0m\u001b[0;34m\u001b[0m\u001b[0;34m\u001b[0m\u001b[0m\n\u001b[1;32m    124\u001b[0m             \u001b[0;32mdel\u001b[0m \u001b[0mfiltered_tb\u001b[0m\u001b[0;34m\u001b[0m\u001b[0;34m\u001b[0m\u001b[0m\n",
            "\u001b[0;32m/usr/local/lib/python3.11/dist-packages/keras/src/models/functional.py\u001b[0m in \u001b[0;36m_adjust_input_rank\u001b[0;34m(self, flat_inputs)\u001b[0m\n\u001b[1;32m    270\u001b[0m                     \u001b[0madjusted\u001b[0m\u001b[0;34m.\u001b[0m\u001b[0mappend\u001b[0m\u001b[0;34m(\u001b[0m\u001b[0mops\u001b[0m\u001b[0;34m.\u001b[0m\u001b[0mexpand_dims\u001b[0m\u001b[0;34m(\u001b[0m\u001b[0mx\u001b[0m\u001b[0;34m,\u001b[0m \u001b[0maxis\u001b[0m\u001b[0;34m=\u001b[0m\u001b[0;34m-\u001b[0m\u001b[0;36m1\u001b[0m\u001b[0;34m)\u001b[0m\u001b[0;34m)\u001b[0m\u001b[0;34m\u001b[0m\u001b[0;34m\u001b[0m\u001b[0m\n\u001b[1;32m    271\u001b[0m                     \u001b[0;32mcontinue\u001b[0m\u001b[0;34m\u001b[0m\u001b[0;34m\u001b[0m\u001b[0m\n\u001b[0;32m--> 272\u001b[0;31m             raise ValueError(\n\u001b[0m\u001b[1;32m    273\u001b[0m                 \u001b[0;34mf\"Invalid input shape for input {x}. Expected shape \"\u001b[0m\u001b[0;34m\u001b[0m\u001b[0;34m\u001b[0m\u001b[0m\n\u001b[1;32m    274\u001b[0m                 \u001b[0;34mf\"{ref_shape}, but input has incompatible shape {x.shape}\"\u001b[0m\u001b[0;34m\u001b[0m\u001b[0;34m\u001b[0m\u001b[0m\n",
            "\u001b[0;31mValueError\u001b[0m: Exception encountered when calling Sequential.call().\n\n\u001b[1mInvalid input shape for input Tensor(\"data:0\", shape=(32,), dtype=float32). Expected shape (None, 128, 128, 3), but input has incompatible shape (32,)\u001b[0m\n\nArguments received by Sequential.call():\n  • inputs=tf.Tensor(shape=(32,), dtype=float32)\n  • training=True\n  • mask=None"
          ]
        }
      ]
    },
    {
      "cell_type": "markdown",
      "metadata": {
        "id": "430ba281"
      },
      "source": [
        "## Model training retry 1\n",
        "\n",
        "### Subtask:\n",
        "Train the CNN model on the preprocessed image data. This is a retry of the previous training step, acknowledging that the lack of data caused the failure.\n"
      ]
    },
    {
      "cell_type": "markdown",
      "metadata": {
        "id": "5fc516d7"
      },
      "source": [
        "**Reasoning**:\n",
        "Generate synthetic image data and labels since the previous data loading failed, then train the model with this synthetic data.\n",
        "\n"
      ]
    },
    {
      "cell_type": "code",
      "metadata": {
        "colab": {
          "base_uri": "https://localhost:8080/",
          "height": 373
        },
        "id": "dc0ebdd6",
        "outputId": "cdcf29c5-b6c7-4104-ad3e-91dc74ff6933"
      },
      "source": [
        "# Step 1: Generate synthetic image data and labels\n",
        "number_of_samples = 100\n",
        "image_data = np.random.rand(number_of_samples, img_height, img_width, 3).astype(np.float32)\n",
        "# Generate random integer labels between 0 and num_classes-1\n",
        "integer_labels = np.random.randint(0, num_classes, size=number_of_samples)\n",
        "# Convert integer labels to one-hot encoded labels\n",
        "labels = tf.keras.utils.to_categorical(integer_labels, num_classes=num_classes)\n",
        "\n",
        "print(\"Generated synthetic image data shape:\", image_data.shape)\n",
        "print(\"Generated synthetic labels shape:\", labels.shape)\n",
        "\n",
        "# Step 2 & 3: Train the model and store history\n",
        "history = model.fit(image_data, labels, epochs=10, batch_size=32)"
      ],
      "execution_count": 10,
      "outputs": [
        {
          "output_type": "stream",
          "name": "stdout",
          "text": [
            "Generated synthetic image data shape: (100, 128, 128, 3)\n",
            "Generated synthetic labels shape: (100, 3)\n",
            "Epoch 1/10\n"
          ]
        },
        {
          "output_type": "error",
          "ename": "ValueError",
          "evalue": "Creating variables on a non-first call to a function decorated with tf.function.",
          "traceback": [
            "\u001b[0;31m---------------------------------------------------------------------------\u001b[0m",
            "\u001b[0;31mValueError\u001b[0m                                Traceback (most recent call last)",
            "\u001b[0;32m/tmp/ipython-input-10-3382976517.py\u001b[0m in \u001b[0;36m<cell line: 0>\u001b[0;34m()\u001b[0m\n\u001b[1;32m     11\u001b[0m \u001b[0;34m\u001b[0m\u001b[0m\n\u001b[1;32m     12\u001b[0m \u001b[0;31m# Step 2 & 3: Train the model and store history\u001b[0m\u001b[0;34m\u001b[0m\u001b[0;34m\u001b[0m\u001b[0m\n\u001b[0;32m---> 13\u001b[0;31m \u001b[0mhistory\u001b[0m \u001b[0;34m=\u001b[0m \u001b[0mmodel\u001b[0m\u001b[0;34m.\u001b[0m\u001b[0mfit\u001b[0m\u001b[0;34m(\u001b[0m\u001b[0mimage_data\u001b[0m\u001b[0;34m,\u001b[0m \u001b[0mlabels\u001b[0m\u001b[0;34m,\u001b[0m \u001b[0mepochs\u001b[0m\u001b[0;34m=\u001b[0m\u001b[0;36m10\u001b[0m\u001b[0;34m,\u001b[0m \u001b[0mbatch_size\u001b[0m\u001b[0;34m=\u001b[0m\u001b[0;36m32\u001b[0m\u001b[0;34m)\u001b[0m\u001b[0;34m\u001b[0m\u001b[0;34m\u001b[0m\u001b[0m\n\u001b[0m",
            "\u001b[0;32m/usr/local/lib/python3.11/dist-packages/keras/src/utils/traceback_utils.py\u001b[0m in \u001b[0;36merror_handler\u001b[0;34m(*args, **kwargs)\u001b[0m\n\u001b[1;32m    120\u001b[0m             \u001b[0;31m# To get the full stack trace, call:\u001b[0m\u001b[0;34m\u001b[0m\u001b[0;34m\u001b[0m\u001b[0m\n\u001b[1;32m    121\u001b[0m             \u001b[0;31m# `keras.config.disable_traceback_filtering()`\u001b[0m\u001b[0;34m\u001b[0m\u001b[0;34m\u001b[0m\u001b[0m\n\u001b[0;32m--> 122\u001b[0;31m             \u001b[0;32mraise\u001b[0m \u001b[0me\u001b[0m\u001b[0;34m.\u001b[0m\u001b[0mwith_traceback\u001b[0m\u001b[0;34m(\u001b[0m\u001b[0mfiltered_tb\u001b[0m\u001b[0;34m)\u001b[0m \u001b[0;32mfrom\u001b[0m \u001b[0;32mNone\u001b[0m\u001b[0;34m\u001b[0m\u001b[0;34m\u001b[0m\u001b[0m\n\u001b[0m\u001b[1;32m    123\u001b[0m         \u001b[0;32mfinally\u001b[0m\u001b[0;34m:\u001b[0m\u001b[0;34m\u001b[0m\u001b[0;34m\u001b[0m\u001b[0m\n\u001b[1;32m    124\u001b[0m             \u001b[0;32mdel\u001b[0m \u001b[0mfiltered_tb\u001b[0m\u001b[0;34m\u001b[0m\u001b[0;34m\u001b[0m\u001b[0m\n",
            "\u001b[0;32m/usr/local/lib/python3.11/dist-packages/keras/src/backend/tensorflow/trainer.py\u001b[0m in \u001b[0;36mmulti_step_on_iterator\u001b[0;34m(iterator)\u001b[0m\n\u001b[1;32m    130\u001b[0m             \u001b[0;32mif\u001b[0m \u001b[0mself\u001b[0m\u001b[0;34m.\u001b[0m\u001b[0msteps_per_execution\u001b[0m \u001b[0;34m==\u001b[0m \u001b[0;36m1\u001b[0m\u001b[0;34m:\u001b[0m\u001b[0;34m\u001b[0m\u001b[0;34m\u001b[0m\u001b[0m\n\u001b[1;32m    131\u001b[0m                 return tf.experimental.Optional.from_value(\n\u001b[0;32m--> 132\u001b[0;31m                     \u001b[0mone_step_on_data\u001b[0m\u001b[0;34m(\u001b[0m\u001b[0miterator\u001b[0m\u001b[0;34m.\u001b[0m\u001b[0mget_next\u001b[0m\u001b[0;34m(\u001b[0m\u001b[0;34m)\u001b[0m\u001b[0;34m)\u001b[0m\u001b[0;34m\u001b[0m\u001b[0;34m\u001b[0m\u001b[0m\n\u001b[0m\u001b[1;32m    133\u001b[0m                 )\n\u001b[1;32m    134\u001b[0m \u001b[0;34m\u001b[0m\u001b[0m\n",
            "\u001b[0;31mValueError\u001b[0m: Creating variables on a non-first call to a function decorated with tf.function."
          ]
        }
      ]
    },
    {
      "cell_type": "markdown",
      "metadata": {
        "id": "70b7b25c"
      },
      "source": [
        "**Reasoning**:\n",
        "The training failed because the model was already compiled in a previous step, and compiling it again within the same TensorFlow graph context is causing issues. Re-create the model definition and compilation in this step before training with the synthetic data.\n",
        "\n"
      ]
    },
    {
      "cell_type": "code",
      "metadata": {
        "colab": {
          "base_uri": "https://localhost:8080/",
          "height": 789
        },
        "id": "MkaE9TOfCrcq",
        "outputId": "7d968ce6-19a9-4536-b44c-a6f889207cbb"
      },
      "source": [
        "# Step 1: Generate synthetic image data and labels (already done in the previous attempt, keeping the same generation logic)\n",
        "number_of_samples = 100\n",
        "image_data = np.random.rand(number_of_samples, img_height, img_width, 3).astype(np.float32)\n",
        "integer_labels = np.random.randint(0, num_classes, size=number_of_samples)\n",
        "labels = tf.keras.utils.to_categorical(integer_labels, num_classes=num_classes)\n",
        "\n",
        "print(\"Generated synthetic image data shape:\", image_data.shape)\n",
        "print(\"Generated synthetic labels shape:\", labels.shape)\n",
        "\n",
        "# Re-define and compile the model to avoid the ValueError\n",
        "model = Sequential([\n",
        "    Conv2D(32, (3, 3), activation='relu', input_shape=(img_height, img_width, 3)),\n",
        "    MaxPooling2D((2, 2)),\n",
        "    Conv2D(64, (3, 3), activation='relu'),\n",
        "    MaxPooling2D((2, 2)),\n",
        "    Flatten(),\n",
        "    Dense(128, activation='relu'),\n",
        "    Dense(num_classes, activation='softmax')\n",
        "])\n",
        "\n",
        "model.compile(optimizer='adam',\n",
        "              loss='categorical_crossentropy',\n",
        "              metrics=['accuracy'])\n",
        "\n",
        "model.summary()\n",
        "\n",
        "# Step 2 & 3: Train the model and store history\n",
        "history = model.fit(image_data, labels, epochs=10, batch_size=32)"
      ],
      "execution_count": 11,
      "outputs": [
        {
          "output_type": "stream",
          "name": "stdout",
          "text": [
            "Generated synthetic image data shape: (100, 128, 128, 3)\n",
            "Generated synthetic labels shape: (100, 3)\n"
          ]
        },
        {
          "output_type": "stream",
          "name": "stderr",
          "text": [
            "/usr/local/lib/python3.11/dist-packages/keras/src/layers/convolutional/base_conv.py:107: UserWarning: Do not pass an `input_shape`/`input_dim` argument to a layer. When using Sequential models, prefer using an `Input(shape)` object as the first layer in the model instead.\n",
            "  super().__init__(activity_regularizer=activity_regularizer, **kwargs)\n"
          ]
        },
        {
          "output_type": "display_data",
          "data": {
            "text/plain": [
              "\u001b[1mModel: \"sequential_1\"\u001b[0m\n"
            ],
            "text/html": [
              "<pre style=\"white-space:pre;overflow-x:auto;line-height:normal;font-family:Menlo,'DejaVu Sans Mono',consolas,'Courier New',monospace\"><span style=\"font-weight: bold\">Model: \"sequential_1\"</span>\n",
              "</pre>\n"
            ]
          },
          "metadata": {}
        },
        {
          "output_type": "display_data",
          "data": {
            "text/plain": [
              "┏━━━━━━━━━━━━━━━━━━━━━━━━━━━━━━━━━┳━━━━━━━━━━━━━━━━━━━━━━━━┳━━━━━━━━━━━━━━━┓\n",
              "┃\u001b[1m \u001b[0m\u001b[1mLayer (type)                   \u001b[0m\u001b[1m \u001b[0m┃\u001b[1m \u001b[0m\u001b[1mOutput Shape          \u001b[0m\u001b[1m \u001b[0m┃\u001b[1m \u001b[0m\u001b[1m      Param #\u001b[0m\u001b[1m \u001b[0m┃\n",
              "┡━━━━━━━━━━━━━━━━━━━━━━━━━━━━━━━━━╇━━━━━━━━━━━━━━━━━━━━━━━━╇━━━━━━━━━━━━━━━┩\n",
              "│ conv2d_2 (\u001b[38;5;33mConv2D\u001b[0m)               │ (\u001b[38;5;45mNone\u001b[0m, \u001b[38;5;34m126\u001b[0m, \u001b[38;5;34m126\u001b[0m, \u001b[38;5;34m32\u001b[0m)   │           \u001b[38;5;34m896\u001b[0m │\n",
              "├─────────────────────────────────┼────────────────────────┼───────────────┤\n",
              "│ max_pooling2d_2 (\u001b[38;5;33mMaxPooling2D\u001b[0m)  │ (\u001b[38;5;45mNone\u001b[0m, \u001b[38;5;34m63\u001b[0m, \u001b[38;5;34m63\u001b[0m, \u001b[38;5;34m32\u001b[0m)     │             \u001b[38;5;34m0\u001b[0m │\n",
              "├─────────────────────────────────┼────────────────────────┼───────────────┤\n",
              "│ conv2d_3 (\u001b[38;5;33mConv2D\u001b[0m)               │ (\u001b[38;5;45mNone\u001b[0m, \u001b[38;5;34m61\u001b[0m, \u001b[38;5;34m61\u001b[0m, \u001b[38;5;34m64\u001b[0m)     │        \u001b[38;5;34m18,496\u001b[0m │\n",
              "├─────────────────────────────────┼────────────────────────┼───────────────┤\n",
              "│ max_pooling2d_3 (\u001b[38;5;33mMaxPooling2D\u001b[0m)  │ (\u001b[38;5;45mNone\u001b[0m, \u001b[38;5;34m30\u001b[0m, \u001b[38;5;34m30\u001b[0m, \u001b[38;5;34m64\u001b[0m)     │             \u001b[38;5;34m0\u001b[0m │\n",
              "├─────────────────────────────────┼────────────────────────┼───────────────┤\n",
              "│ flatten_1 (\u001b[38;5;33mFlatten\u001b[0m)             │ (\u001b[38;5;45mNone\u001b[0m, \u001b[38;5;34m57600\u001b[0m)          │             \u001b[38;5;34m0\u001b[0m │\n",
              "├─────────────────────────────────┼────────────────────────┼───────────────┤\n",
              "│ dense_2 (\u001b[38;5;33mDense\u001b[0m)                 │ (\u001b[38;5;45mNone\u001b[0m, \u001b[38;5;34m128\u001b[0m)            │     \u001b[38;5;34m7,372,928\u001b[0m │\n",
              "├─────────────────────────────────┼────────────────────────┼───────────────┤\n",
              "│ dense_3 (\u001b[38;5;33mDense\u001b[0m)                 │ (\u001b[38;5;45mNone\u001b[0m, \u001b[38;5;34m3\u001b[0m)              │           \u001b[38;5;34m387\u001b[0m │\n",
              "└─────────────────────────────────┴────────────────────────┴───────────────┘\n"
            ],
            "text/html": [
              "<pre style=\"white-space:pre;overflow-x:auto;line-height:normal;font-family:Menlo,'DejaVu Sans Mono',consolas,'Courier New',monospace\">┏━━━━━━━━━━━━━━━━━━━━━━━━━━━━━━━━━┳━━━━━━━━━━━━━━━━━━━━━━━━┳━━━━━━━━━━━━━━━┓\n",
              "┃<span style=\"font-weight: bold\"> Layer (type)                    </span>┃<span style=\"font-weight: bold\"> Output Shape           </span>┃<span style=\"font-weight: bold\">       Param # </span>┃\n",
              "┡━━━━━━━━━━━━━━━━━━━━━━━━━━━━━━━━━╇━━━━━━━━━━━━━━━━━━━━━━━━╇━━━━━━━━━━━━━━━┩\n",
              "│ conv2d_2 (<span style=\"color: #0087ff; text-decoration-color: #0087ff\">Conv2D</span>)               │ (<span style=\"color: #00d7ff; text-decoration-color: #00d7ff\">None</span>, <span style=\"color: #00af00; text-decoration-color: #00af00\">126</span>, <span style=\"color: #00af00; text-decoration-color: #00af00\">126</span>, <span style=\"color: #00af00; text-decoration-color: #00af00\">32</span>)   │           <span style=\"color: #00af00; text-decoration-color: #00af00\">896</span> │\n",
              "├─────────────────────────────────┼────────────────────────┼───────────────┤\n",
              "│ max_pooling2d_2 (<span style=\"color: #0087ff; text-decoration-color: #0087ff\">MaxPooling2D</span>)  │ (<span style=\"color: #00d7ff; text-decoration-color: #00d7ff\">None</span>, <span style=\"color: #00af00; text-decoration-color: #00af00\">63</span>, <span style=\"color: #00af00; text-decoration-color: #00af00\">63</span>, <span style=\"color: #00af00; text-decoration-color: #00af00\">32</span>)     │             <span style=\"color: #00af00; text-decoration-color: #00af00\">0</span> │\n",
              "├─────────────────────────────────┼────────────────────────┼───────────────┤\n",
              "│ conv2d_3 (<span style=\"color: #0087ff; text-decoration-color: #0087ff\">Conv2D</span>)               │ (<span style=\"color: #00d7ff; text-decoration-color: #00d7ff\">None</span>, <span style=\"color: #00af00; text-decoration-color: #00af00\">61</span>, <span style=\"color: #00af00; text-decoration-color: #00af00\">61</span>, <span style=\"color: #00af00; text-decoration-color: #00af00\">64</span>)     │        <span style=\"color: #00af00; text-decoration-color: #00af00\">18,496</span> │\n",
              "├─────────────────────────────────┼────────────────────────┼───────────────┤\n",
              "│ max_pooling2d_3 (<span style=\"color: #0087ff; text-decoration-color: #0087ff\">MaxPooling2D</span>)  │ (<span style=\"color: #00d7ff; text-decoration-color: #00d7ff\">None</span>, <span style=\"color: #00af00; text-decoration-color: #00af00\">30</span>, <span style=\"color: #00af00; text-decoration-color: #00af00\">30</span>, <span style=\"color: #00af00; text-decoration-color: #00af00\">64</span>)     │             <span style=\"color: #00af00; text-decoration-color: #00af00\">0</span> │\n",
              "├─────────────────────────────────┼────────────────────────┼───────────────┤\n",
              "│ flatten_1 (<span style=\"color: #0087ff; text-decoration-color: #0087ff\">Flatten</span>)             │ (<span style=\"color: #00d7ff; text-decoration-color: #00d7ff\">None</span>, <span style=\"color: #00af00; text-decoration-color: #00af00\">57600</span>)          │             <span style=\"color: #00af00; text-decoration-color: #00af00\">0</span> │\n",
              "├─────────────────────────────────┼────────────────────────┼───────────────┤\n",
              "│ dense_2 (<span style=\"color: #0087ff; text-decoration-color: #0087ff\">Dense</span>)                 │ (<span style=\"color: #00d7ff; text-decoration-color: #00d7ff\">None</span>, <span style=\"color: #00af00; text-decoration-color: #00af00\">128</span>)            │     <span style=\"color: #00af00; text-decoration-color: #00af00\">7,372,928</span> │\n",
              "├─────────────────────────────────┼────────────────────────┼───────────────┤\n",
              "│ dense_3 (<span style=\"color: #0087ff; text-decoration-color: #0087ff\">Dense</span>)                 │ (<span style=\"color: #00d7ff; text-decoration-color: #00d7ff\">None</span>, <span style=\"color: #00af00; text-decoration-color: #00af00\">3</span>)              │           <span style=\"color: #00af00; text-decoration-color: #00af00\">387</span> │\n",
              "└─────────────────────────────────┴────────────────────────┴───────────────┘\n",
              "</pre>\n"
            ]
          },
          "metadata": {}
        },
        {
          "output_type": "display_data",
          "data": {
            "text/plain": [
              "\u001b[1m Total params: \u001b[0m\u001b[38;5;34m7,392,707\u001b[0m (28.20 MB)\n"
            ],
            "text/html": [
              "<pre style=\"white-space:pre;overflow-x:auto;line-height:normal;font-family:Menlo,'DejaVu Sans Mono',consolas,'Courier New',monospace\"><span style=\"font-weight: bold\"> Total params: </span><span style=\"color: #00af00; text-decoration-color: #00af00\">7,392,707</span> (28.20 MB)\n",
              "</pre>\n"
            ]
          },
          "metadata": {}
        },
        {
          "output_type": "display_data",
          "data": {
            "text/plain": [
              "\u001b[1m Trainable params: \u001b[0m\u001b[38;5;34m7,392,707\u001b[0m (28.20 MB)\n"
            ],
            "text/html": [
              "<pre style=\"white-space:pre;overflow-x:auto;line-height:normal;font-family:Menlo,'DejaVu Sans Mono',consolas,'Courier New',monospace\"><span style=\"font-weight: bold\"> Trainable params: </span><span style=\"color: #00af00; text-decoration-color: #00af00\">7,392,707</span> (28.20 MB)\n",
              "</pre>\n"
            ]
          },
          "metadata": {}
        },
        {
          "output_type": "display_data",
          "data": {
            "text/plain": [
              "\u001b[1m Non-trainable params: \u001b[0m\u001b[38;5;34m0\u001b[0m (0.00 B)\n"
            ],
            "text/html": [
              "<pre style=\"white-space:pre;overflow-x:auto;line-height:normal;font-family:Menlo,'DejaVu Sans Mono',consolas,'Courier New',monospace\"><span style=\"font-weight: bold\"> Non-trainable params: </span><span style=\"color: #00af00; text-decoration-color: #00af00\">0</span> (0.00 B)\n",
              "</pre>\n"
            ]
          },
          "metadata": {}
        },
        {
          "output_type": "stream",
          "name": "stdout",
          "text": [
            "Epoch 1/10\n",
            "\u001b[1m4/4\u001b[0m \u001b[32m━━━━━━━━━━━━━━━━━━━━\u001b[0m\u001b[37m\u001b[0m \u001b[1m6s\u001b[0m 611ms/step - accuracy: 0.2750 - loss: 6.0063\n",
            "Epoch 2/10\n",
            "\u001b[1m4/4\u001b[0m \u001b[32m━━━━━━━━━━━━━━━━━━━━\u001b[0m\u001b[37m\u001b[0m \u001b[1m5s\u001b[0m 717ms/step - accuracy: 0.3426 - loss: 2.3125\n",
            "Epoch 3/10\n",
            "\u001b[1m4/4\u001b[0m \u001b[32m━━━━━━━━━━━━━━━━━━━━\u001b[0m\u001b[37m\u001b[0m \u001b[1m4s\u001b[0m 487ms/step - accuracy: 0.4448 - loss: 1.0907\n",
            "Epoch 4/10\n",
            "\u001b[1m4/4\u001b[0m \u001b[32m━━━━━━━━━━━━━━━━━━━━\u001b[0m\u001b[37m\u001b[0m \u001b[1m2s\u001b[0m 499ms/step - accuracy: 0.4468 - loss: 1.0685\n",
            "Epoch 5/10\n",
            "\u001b[1m4/4\u001b[0m \u001b[32m━━━━━━━━━━━━━━━━━━━━\u001b[0m\u001b[37m\u001b[0m \u001b[1m3s\u001b[0m 494ms/step - accuracy: 0.3245 - loss: 1.0621\n",
            "Epoch 6/10\n",
            "\u001b[1m4/4\u001b[0m \u001b[32m━━━━━━━━━━━━━━━━━━━━\u001b[0m\u001b[37m\u001b[0m \u001b[1m3s\u001b[0m 742ms/step - accuracy: 0.4458 - loss: 1.0037\n",
            "Epoch 7/10\n",
            "\u001b[1m4/4\u001b[0m \u001b[32m━━━━━━━━━━━━━━━━━━━━\u001b[0m\u001b[37m\u001b[0m \u001b[1m4s\u001b[0m 487ms/step - accuracy: 0.6047 - loss: 1.0331\n",
            "Epoch 8/10\n",
            "\u001b[1m4/4\u001b[0m \u001b[32m━━━━━━━━━━━━━━━━━━━━\u001b[0m\u001b[37m\u001b[0m \u001b[1m3s\u001b[0m 494ms/step - accuracy: 0.9412 - loss: 1.0250\n",
            "Epoch 9/10\n",
            "\u001b[1m4/4\u001b[0m \u001b[32m━━━━━━━━━━━━━━━━━━━━\u001b[0m\u001b[37m\u001b[0m \u001b[1m3s\u001b[0m 509ms/step - accuracy: 0.5524 - loss: 0.9736\n",
            "Epoch 10/10\n",
            "\u001b[1m4/4\u001b[0m \u001b[32m━━━━━━━━━━━━━━━━━━━━\u001b[0m\u001b[37m\u001b[0m \u001b[1m3s\u001b[0m 741ms/step - accuracy: 0.6670 - loss: 0.9127\n"
          ]
        }
      ]
    },
    {
      "cell_type": "markdown",
      "metadata": {
        "id": "f2a834fc"
      },
      "source": [
        "## Model evaluation\n",
        "\n",
        "### Subtask:\n",
        "Evaluate the trained model's performance on a separate test set.\n"
      ]
    },
    {
      "cell_type": "markdown",
      "metadata": {
        "id": "5cb5ab6b"
      },
      "source": [
        "**Reasoning**:\n",
        "Generate a synthetic test dataset and evaluate the trained model on it.\n",
        "\n"
      ]
    },
    {
      "cell_type": "code",
      "metadata": {
        "colab": {
          "base_uri": "https://localhost:8080/"
        },
        "id": "2ac7abf0",
        "outputId": "12ef1822-e86c-4853-8a0f-9c6a72424f36"
      },
      "source": [
        "# Step 1: Prepare a synthetic test dataset\n",
        "number_of_test_samples = 20\n",
        "test_image_data = np.random.rand(number_of_test_samples, img_height, img_width, 3).astype(np.float32)\n",
        "test_integer_labels = np.random.randint(0, num_classes, size=number_of_test_samples)\n",
        "test_labels = tf.keras.utils.to_categorical(test_integer_labels, num_classes=num_classes)\n",
        "\n",
        "print(\"Generated synthetic test image data shape:\", test_image_data.shape)\n",
        "print(\"Generated synthetic test labels shape:\", test_labels.shape)\n",
        "\n",
        "# Step 2 & 3: Evaluate the trained model on the synthetic test dataset and print the results\n",
        "print(\"\\nEvaluating model on synthetic test data...\")\n",
        "loss, accuracy = model.evaluate(test_image_data, test_labels, verbose=0)\n",
        "\n",
        "print(f\"Test Loss: {loss:.4f}\")\n",
        "print(f\"Test Accuracy: {accuracy:.4f}\")"
      ],
      "execution_count": 12,
      "outputs": [
        {
          "output_type": "stream",
          "name": "stdout",
          "text": [
            "Generated synthetic test image data shape: (20, 128, 128, 3)\n",
            "Generated synthetic test labels shape: (20, 3)\n",
            "\n",
            "Evaluating model on synthetic test data...\n",
            "Test Loss: 1.1916\n",
            "Test Accuracy: 0.4000\n"
          ]
        }
      ]
    },
    {
      "cell_type": "markdown",
      "metadata": {
        "id": "4161c1c1"
      },
      "source": [
        "## Real-time prediction\n",
        "\n",
        "### Subtask:\n",
        "Use the trained model to predict the gesture from real-time webcam feed.\n"
      ]
    },
    {
      "cell_type": "markdown",
      "metadata": {
        "id": "54f1ca37"
      },
      "source": [
        "**Reasoning**:\n",
        "Initialize the video capture object and start a loop to read frames from the webcam. Inside the loop, preprocess the frame, make a prediction using the trained model, get the predicted label, display the prediction on the frame, and show the frame. Also, include a check for a key press to exit the loop and ensure the video capture object is released and windows are closed after the loop.\n",
        "\n"
      ]
    },
    {
      "cell_type": "code",
      "metadata": {
        "colab": {
          "base_uri": "https://localhost:8080/"
        },
        "id": "e891d561",
        "outputId": "cb3ced70-701a-4512-de23-961a4cbcdaea"
      },
      "source": [
        "# Initialize video capture\n",
        "cap = cv2.VideoCapture(0)\n",
        "\n",
        "# Check if the webcam is opened correctly\n",
        "if not cap.isOpened():\n",
        "    print(\"Error: Could not open webcam.\")\n",
        "    # Use finish_task to indicate failure if webcam cannot be opened\n",
        "    # This will be handled by the next step, but for clarity in this step's output\n",
        "    # we print an error message.\n",
        "    # The actual finish_task will be in the next step's reasoning if the loop doesn't start.\n",
        "else:\n",
        "    print(\"Webcam opened successfully.\")\n",
        "    # Define the gesture labels\n",
        "    gesture_labels = ['rock', 'paper', 'scissors']\n",
        "\n",
        "    while True:\n",
        "        # Read a frame from the webcam\n",
        "        ret, frame = cap.read()\n",
        "\n",
        "        # If frame is not read correctly, break the loop\n",
        "        if not ret:\n",
        "            print(\"Error: Could not read frame.\")\n",
        "            break\n",
        "\n",
        "        # Preprocess the captured frame\n",
        "        # Resize to the expected dimensions\n",
        "        resized_frame = cv2.resize(frame, (img_width, img_height))\n",
        "        # Normalize the frame\n",
        "        normalized_frame = resized_frame / 255.0\n",
        "        # Expand dimensions to match model input shape (batch size of 1)\n",
        "        input_frame = np.expand_dims(normalized_frame, axis=0)\n",
        "\n",
        "        # Use the trained model to make a prediction\n",
        "        predictions = model.predict(input_frame)\n",
        "\n",
        "        # Get the predicted gesture label\n",
        "        predicted_class_index = np.argmax(predictions)\n",
        "        predicted_gesture = gesture_labels[predicted_class_index]\n",
        "\n",
        "        # Display the predicted gesture on the frame\n",
        "        cv2.putText(frame, f'Prediction: {predicted_gesture}', (10, 30), cv2.FONT_HERSHEY_SIMPLEX, 1, (0, 255, 0), 2, cv2.LINE_AA)\n",
        "\n",
        "        # Display the frame with the prediction\n",
        "        cv2.imshow('Rock Paper Scissors', frame)\n",
        "\n",
        "        # Check for a key press (e.g., 'q') to exit the loop\n",
        "        if cv2.waitKey(1) & 0xFF == ord('q'):\n",
        "            break\n",
        "\n",
        "    # Release the video capture object\n",
        "    cap.release()\n",
        "\n",
        "    # Close all OpenCV windows\n",
        "    cv2.destroyAllWindows()\n",
        "\n",
        "    print(\"Webcam feed closed.\")"
      ],
      "execution_count": 13,
      "outputs": [
        {
          "output_type": "stream",
          "name": "stdout",
          "text": [
            "Error: Could not open webcam.\n"
          ]
        }
      ]
    },
    {
      "cell_type": "markdown",
      "metadata": {
        "id": "eafb9197"
      },
      "source": [
        "## Real-time prediction retry 1\n",
        "\n",
        "### Subtask:\n",
        "Use the trained model to predict the gesture from real-time webcam feed. This is a retry of the previous real-time prediction step, acknowledging that the webcam could not be opened.\n"
      ]
    },
    {
      "cell_type": "markdown",
      "metadata": {
        "id": "29882140"
      },
      "source": [
        "## Game logic\n",
        "\n",
        "### Subtask:\n",
        "Implement the game logic for Rock-Paper-Scissors, comparing the user's predicted gesture with the computer's random choice.\n"
      ]
    },
    {
      "cell_type": "markdown",
      "metadata": {
        "id": "3a5777f2"
      },
      "source": [
        "**Reasoning**:\n",
        "Define a function to determine the winner of a Rock-Paper-Scissors game based on the user's predicted gesture and the computer's random choice, and return the outcome as a string.\n",
        "\n"
      ]
    },
    {
      "cell_type": "code",
      "metadata": {
        "id": "96ae2299"
      },
      "source": [
        "def determine_winner(user_gesture, computer_choice):\n",
        "    \"\"\"\n",
        "    Determines the winner of a Rock-Paper-Scissors game.\n",
        "\n",
        "    Args:\n",
        "        user_gesture: The user's predicted gesture ('rock', 'paper', or 'scissors').\n",
        "        computer_choice: The computer's random choice ('rock', 'paper', or 'scissors').\n",
        "\n",
        "    Returns:\n",
        "        A string indicating the outcome ('User Wins!', 'Computer Wins!', or 'Tie!').\n",
        "    \"\"\"\n",
        "    if user_gesture == computer_choice:\n",
        "        return \"Tie!\"\n",
        "    elif (user_gesture == 'rock' and computer_choice == 'scissors') or \\\n",
        "         (user_gesture == 'paper' and computer_choice == 'rock') or \\\n",
        "         (user_gesture == 'scissors' and computer_choice == 'paper'):\n",
        "        return \"User Wins!\"\n",
        "    else:\n",
        "        return \"Computer Wins!\"\n",
        "\n",
        "# Example usage (for testing the function)\n",
        "# user_prediction = random.choice(['rock', 'paper', 'scissors']) # Use random for simulation\n",
        "# computer_selection = random.choice(['rock', 'paper', 'scissors']) # Use random for simulation\n",
        "# result = determine_winner(user_prediction, computer_selection)\n",
        "# print(f\"User chose: {user_prediction}, Computer chose: {computer_selection}, Result: {result}\")"
      ],
      "execution_count": 14,
      "outputs": []
    },
    {
      "cell_type": "markdown",
      "metadata": {
        "id": "1410ab16"
      },
      "source": [
        "## User interface\n",
        "\n",
        "### Subtask:\n",
        "Create a simple user interface to display the webcam feed, predictions, scores, and game outcome.\n"
      ]
    },
    {
      "cell_type": "markdown",
      "metadata": {
        "id": "9c92f025"
      },
      "source": [
        "**Reasoning**:\n",
        "Initialize the scores and simulate the game loop for a fixed number of rounds, printing the game state in each round.\n",
        "\n"
      ]
    },
    {
      "cell_type": "code",
      "metadata": {
        "colab": {
          "base_uri": "https://localhost:8080/"
        },
        "id": "83f5ee35",
        "outputId": "7b8b5144-8709-45e2-f006-2d66bf55f66e"
      },
      "source": [
        "# Initialize scores\n",
        "user_score = 0\n",
        "computer_score = 0\n",
        "\n",
        "# Simulate game rounds\n",
        "num_rounds = 5\n",
        "\n",
        "print(\"Starting Rock-Paper-Scissors Game Simulation!\")\n",
        "print(\"-\" * 30)\n",
        "\n",
        "for round_num in range(1, num_rounds + 1):\n",
        "    print(f\"\\nRound {round_num}:\")\n",
        "\n",
        "    # Simulate user gesture prediction (randomly chosen for simulation)\n",
        "    user_gesture_simulated = random.choice(['rock', 'paper', 'scissors'])\n",
        "    print(f\"Simulated User Gesture: {user_gesture_simulated}\")\n",
        "\n",
        "    # Simulate computer's random choice\n",
        "    computer_choice_simulated = random.choice(['rock', 'paper', 'scissors'])\n",
        "    print(f\"Computer's Choice: {computer_choice_simulated}\")\n",
        "\n",
        "    # Determine the winner using the previously defined function\n",
        "    outcome = determine_winner(user_gesture_simulated, computer_choice_simulated)\n",
        "    print(f\"Outcome: {outcome}\")\n",
        "\n",
        "    # Update scores based on the outcome\n",
        "    if outcome == \"User Wins!\":\n",
        "        user_score += 1\n",
        "    elif outcome == \"Computer Wins!\":\n",
        "        computer_score += 1\n",
        "\n",
        "    # Print current scores\n",
        "    print(f\"Current Score - User: {user_score}, Computer: {computer_score}\")\n",
        "    print(\"-\" * 30)\n",
        "\n",
        "print(\"\\nGame Simulation Finished!\")\n",
        "print(f\"Final Score - User: {user_score}, Computer: {computer_score}\")"
      ],
      "execution_count": 15,
      "outputs": [
        {
          "output_type": "stream",
          "name": "stdout",
          "text": [
            "Starting Rock-Paper-Scissors Game Simulation!\n",
            "------------------------------\n",
            "\n",
            "Round 1:\n",
            "Simulated User Gesture: paper\n",
            "Computer's Choice: scissors\n",
            "Outcome: Computer Wins!\n",
            "Current Score - User: 0, Computer: 1\n",
            "------------------------------\n",
            "\n",
            "Round 2:\n",
            "Simulated User Gesture: paper\n",
            "Computer's Choice: paper\n",
            "Outcome: Tie!\n",
            "Current Score - User: 0, Computer: 1\n",
            "------------------------------\n",
            "\n",
            "Round 3:\n",
            "Simulated User Gesture: rock\n",
            "Computer's Choice: paper\n",
            "Outcome: Computer Wins!\n",
            "Current Score - User: 0, Computer: 2\n",
            "------------------------------\n",
            "\n",
            "Round 4:\n",
            "Simulated User Gesture: paper\n",
            "Computer's Choice: scissors\n",
            "Outcome: Computer Wins!\n",
            "Current Score - User: 0, Computer: 3\n",
            "------------------------------\n",
            "\n",
            "Round 5:\n",
            "Simulated User Gesture: rock\n",
            "Computer's Choice: paper\n",
            "Outcome: Computer Wins!\n",
            "Current Score - User: 0, Computer: 4\n",
            "------------------------------\n",
            "\n",
            "Game Simulation Finished!\n",
            "Final Score - User: 0, Computer: 4\n"
          ]
        }
      ]
    },
    {
      "cell_type": "markdown",
      "metadata": {
        "id": "ebd428bd"
      },
      "source": [
        "## Refinement\n",
        "\n",
        "### Subtask:\n",
        "Refine the model and game based on testing and user feedback.\n"
      ]
    },
    {
      "cell_type": "markdown",
      "metadata": {
        "id": "d76ee8c6"
      },
      "source": [
        "**Reasoning**:\n",
        "Acknowledge the environmental constraints and summarize the current state of the project as per the instructions. Explain how refinement would typically be done in a real-world scenario and state that this step will focus on outlining the process.\n",
        "\n"
      ]
    },
    {
      "cell_type": "code",
      "metadata": {
        "colab": {
          "base_uri": "https://localhost:8080/"
        },
        "id": "ed394861",
        "outputId": "c5576187-364f-450e-fb62-a67d545b0a56"
      },
      "source": [
        "# 1. Acknowledge environmental constraints\n",
        "print(\"Acknowledging environmental constraints:\")\n",
        "print(\"Due to the limitations of this environment, real-time webcam integration and the collection/training on actual image data were not possible.\")\n",
        "print(\"-\" * 70)\n",
        "\n",
        "# 2. Summarize the current state of the project\n",
        "print(\"Current state of the project:\")\n",
        "print(\"The project currently consists of a text-based simulation of the Rock-Paper-Scissors game logic.\")\n",
        "print(\"We have also trained a TensorFlow CNN model, but on synthetically generated data instead of real image data.\")\n",
        "print(\"-\" * 70)\n",
        "\n",
        "# 3. Explain real-world refinement process\n",
        "print(\"Real-world refinement process:\")\n",
        "print(\"In a real-world scenario with webcam access and collected image data, the refinement phase would typically involve:\")\n",
        "print(\" - Gathering more diverse image data from various users, angles, and lighting conditions to improve model robustness.\")\n",
        "print(\" - Performing more extensive data augmentation techniques (e.g., rotations, zooms, flips) to increase the training data diversity.\")\n",
        "print(\" - Experimenting with different CNN architectures and hyperparameters to optimize model performance.\")\n",
        "print(\" - Evaluating the model on a real, held-out test set of collected images to get a realistic measure of its accuracy.\")\n",
        "print(\" - Integrating the real-time prediction output from the model with the game logic and user interface.\")\n",
        "print(\" - Implementing the display of the live webcam feed, predicted gesture, computer's choice, and score within the UI.\")\n",
        "print(\" - Collecting user feedback on the game's responsiveness, accuracy, and overall user experience.\")\n",
        "print(\" - Iterating on the model (re-training with more data or different parameters) and the user interface based on the collected feedback.\")\n",
        "print(\"-\" * 70)\n",
        "\n",
        "# 4. State the focus of this refinement step\n",
        "print(\"Focus of this refinement step in this environment:\")\n",
        "print(\"Since real-world testing and feedback are not possible, this refinement step primarily focuses on outlining the typical refinement process rather than executing it.\")"
      ],
      "execution_count": 16,
      "outputs": [
        {
          "output_type": "stream",
          "name": "stdout",
          "text": [
            "Acknowledging environmental constraints:\n",
            "Due to the limitations of this environment, real-time webcam integration and the collection/training on actual image data were not possible.\n",
            "----------------------------------------------------------------------\n",
            "Current state of the project:\n",
            "The project currently consists of a text-based simulation of the Rock-Paper-Scissors game logic.\n",
            "We have also trained a TensorFlow CNN model, but on synthetically generated data instead of real image data.\n",
            "----------------------------------------------------------------------\n",
            "Real-world refinement process:\n",
            "In a real-world scenario with webcam access and collected image data, the refinement phase would typically involve:\n",
            " - Gathering more diverse image data from various users, angles, and lighting conditions to improve model robustness.\n",
            " - Performing more extensive data augmentation techniques (e.g., rotations, zooms, flips) to increase the training data diversity.\n",
            " - Experimenting with different CNN architectures and hyperparameters to optimize model performance.\n",
            " - Evaluating the model on a real, held-out test set of collected images to get a realistic measure of its accuracy.\n",
            " - Integrating the real-time prediction output from the model with the game logic and user interface.\n",
            " - Implementing the display of the live webcam feed, predicted gesture, computer's choice, and score within the UI.\n",
            " - Collecting user feedback on the game's responsiveness, accuracy, and overall user experience.\n",
            " - Iterating on the model (re-training with more data or different parameters) and the user interface based on the collected feedback.\n",
            "----------------------------------------------------------------------\n",
            "Focus of this refinement step in this environment:\n",
            "Since real-world testing and feedback are not possible, this refinement step primarily focuses on outlining the typical refinement process rather than executing it.\n"
          ]
        }
      ]
    },
    {
      "cell_type": "markdown",
      "metadata": {
        "id": "82a54cd0"
      },
      "source": [
        "## Summary:\n",
        "\n",
        "### Insights or Next Steps\n",
        "\n",
        "*   To move this project forward in a real-world scenario, the immediate next step would be to acquire a dataset of hand gestures (rock, paper, scissors) captured from diverse individuals, angles, and lighting conditions. This data is crucial for training a model that can perform effectively in a real game setting.\n",
        "*   Integrating the trained model with a graphical user interface (UI) that can display the live webcam feed, the model's predictions, the computer's choice, and the game score is essential for a playable game. This requires an environment that supports real-time video processing and display.\n"
      ]
    },
    {
      "cell_type": "code",
      "metadata": {
        "colab": {
          "base_uri": "https://localhost:8080/",
          "height": 607
        },
        "id": "7550dc8d",
        "outputId": "2f585c52-b3e1-4f99-99b0-89f87b052212"
      },
      "source": [
        "import matplotlib.pyplot as plt\n",
        "\n",
        "# Plot training & validation accuracy values\n",
        "plt.figure(figsize=(12, 6))\n",
        "plt.subplot(1, 2, 1)\n",
        "plt.plot(history.history['accuracy'])\n",
        "# If you had validation data and it was passed to model.fit, you would plot it here as well\n",
        "# plt.plot(history.history['val_accuracy'])\n",
        "plt.title('Model accuracy')\n",
        "plt.ylabel('Accuracy')\n",
        "plt.xlabel('Epoch')\n",
        "plt.legend(['Train'], loc='upper left')\n",
        "\n",
        "# Plot training & validation loss values\n",
        "plt.subplot(1, 2, 2)\n",
        "plt.plot(history.history['loss'])\n",
        "# If you had validation data, you would plot it here as well\n",
        "# plt.plot(history.history['val_loss'])\n",
        "plt.title('Model loss')\n",
        "plt.ylabel('Loss')\n",
        "plt.xlabel('Epoch')\n",
        "plt.legend(['Train'], loc='upper left')\n",
        "\n",
        "plt.tight_layout()\n",
        "plt.show()"
      ],
      "execution_count": 17,
      "outputs": [
        {
          "output_type": "display_data",
          "data": {
            "text/plain": [
              "<Figure size 1200x600 with 2 Axes>"
            ],
            "image/png": "[encoded data removed]"
          },
          "metadata": {}
        }
      ]
    }
  ]
}